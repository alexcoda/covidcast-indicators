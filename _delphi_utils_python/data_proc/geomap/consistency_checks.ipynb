{
 "cells": [
  {
   "cell_type": "markdown",
   "metadata": {},
   "source": [
    "# Consistency Checks for different source files/encodings\n",
    "\n",
    "### Author: James Sharpnack @jsharpna\n",
    "\n",
    "This contains consistency checks for any different data sources for geomapping."
   ]
  },
  {
   "cell_type": "code",
   "execution_count": 3,
   "metadata": {},
   "outputs": [
    {
     "output_type": "execute_result",
     "data": {
      "text/plain": "         zip   fips            county_name  hrrnum  hsanum  population  \\\n0        601  72001               Adjuntas     NaN     NaN       17242   \n1        602  72003                 Aguada     NaN     NaN       38442   \n2        603  72005              Aguadilla     NaN     NaN       48814   \n3        606  72093                Maricao     NaN     NaN        6437   \n4        610  72011                 Añasco     NaN     NaN       27073   \n...      ...    ...                    ...     ...     ...         ...   \n33094  99923   2198  Prince of Wales-Hyder    10.0  2006.0          15   \n33095  99925   2198  Prince of Wales-Hyder    10.0  2006.0         927   \n33096  99926   2198  Prince of Wales-Hyder    10.0  2006.0        1635   \n33097  99927   2198  Prince of Wales-Hyder    10.0  2006.0          38   \n33098  99929   2275               Wrangell    10.0  2015.0        2484   \n\n              city state_id   state_name  zcta  ...  \\\n0         Adjuntas       PR  Puerto Rico  True  ...   \n1           Aguada       PR  Puerto Rico  True  ...   \n2        Aguadilla       PR  Puerto Rico  True  ...   \n3          Maricao       PR  Puerto Rico  True  ...   \n4           Anasco       PR  Puerto Rico  True  ...   \n...            ...      ...          ...   ...  ...   \n33094        Hyder       AK       Alaska  True  ...   \n33095      Klawock       AK       Alaska  True  ...   \n33096   Metlakatla       AK       Alaska  True  ...   \n33097  Point Baker       AK       Alaska  True  ...   \n33098     Wrangell       AK       Alaska  True  ...   \n\n                                  county_weights             county_names_all  \\\n0                   {'72001':99.43,'72141':0.57}              Adjuntas|Utuado   \n1                                  {'72003':100}                       Aguada   \n2                                  {'72005':100}                    Aguadilla   \n3      {'72093':94.88,'72121':1.35,'72153':3.78}  Maricao|Yauco|Sabana Grande   \n4                   {'72003':0.55,'72011':99.45}                Añasco|Aguada   \n...                                          ...                          ...   \n33094                              {'02198':100}        Prince of Wales-Hyder   \n33095                              {'02198':100}        Prince of Wales-Hyder   \n33096                              {'02198':100}        Prince of Wales-Hyder   \n33097                              {'02198':100}        Prince of Wales-Hyder   \n33098                              {'02275':100}                     Wrangell   \n\n         county_fips_all  imprecise military             timezone dma_code  \\\n0            72001|72141      False    False  America/Puerto_Rico      NaN   \n1                  72003      False    False  America/Puerto_Rico      NaN   \n2                  72005      False    False  America/Puerto_Rico      NaN   \n3      72093|72153|72121      False    False  America/Puerto_Rico      NaN   \n4            72011|72003      False    False  America/Puerto_Rico      NaN   \n...                  ...        ...      ...                  ...      ...   \n33094               2198      False    False        America/Sitka      0.0   \n33095               2198      False    False        America/Sitka      0.0   \n33096               2198      False    False   America/Metlakatla      0.0   \n33097               2198      False    False        America/Sitka      0.0   \n33098               2275      False    False        America/Sitka      0.0   \n\n                 dma_name  cbsa_id msa_name  \n0                     NaN      NaN      NaN  \n1                     NaN      NaN      NaN  \n2                     NaN      NaN      NaN  \n3                     NaN      NaN      NaN  \n4                     NaN      NaN      NaN  \n...                   ...      ...      ...  \n33094  (NON-DMA COUNTIES)      NaN      NaN  \n33095  (NON-DMA COUNTIES)      NaN      NaN  \n33096  (NON-DMA COUNTIES)      NaN      NaN  \n33097  (NON-DMA COUNTIES)      NaN      NaN  \n33098  (NON-DMA COUNTIES)      NaN      NaN  \n\n[33099 rows x 24 columns]",
      "text/html": "<div>\n<style scoped>\n    .dataframe tbody tr th:only-of-type {\n        vertical-align: middle;\n    }\n\n    .dataframe tbody tr th {\n        vertical-align: top;\n    }\n\n    .dataframe thead th {\n        text-align: right;\n    }\n</style>\n<table border=\"1\" class=\"dataframe\">\n  <thead>\n    <tr style=\"text-align: right;\">\n      <th></th>\n      <th>zip</th>\n      <th>fips</th>\n      <th>county_name</th>\n      <th>hrrnum</th>\n      <th>hsanum</th>\n      <th>population</th>\n      <th>city</th>\n      <th>state_id</th>\n      <th>state_name</th>\n      <th>zcta</th>\n      <th>...</th>\n      <th>county_weights</th>\n      <th>county_names_all</th>\n      <th>county_fips_all</th>\n      <th>imprecise</th>\n      <th>military</th>\n      <th>timezone</th>\n      <th>dma_code</th>\n      <th>dma_name</th>\n      <th>cbsa_id</th>\n      <th>msa_name</th>\n    </tr>\n  </thead>\n  <tbody>\n    <tr>\n      <th>0</th>\n      <td>601</td>\n      <td>72001</td>\n      <td>Adjuntas</td>\n      <td>NaN</td>\n      <td>NaN</td>\n      <td>17242</td>\n      <td>Adjuntas</td>\n      <td>PR</td>\n      <td>Puerto Rico</td>\n      <td>True</td>\n      <td>...</td>\n      <td>{'72001':99.43,'72141':0.57}</td>\n      <td>Adjuntas|Utuado</td>\n      <td>72001|72141</td>\n      <td>False</td>\n      <td>False</td>\n      <td>America/Puerto_Rico</td>\n      <td>NaN</td>\n      <td>NaN</td>\n      <td>NaN</td>\n      <td>NaN</td>\n    </tr>\n    <tr>\n      <th>1</th>\n      <td>602</td>\n      <td>72003</td>\n      <td>Aguada</td>\n      <td>NaN</td>\n      <td>NaN</td>\n      <td>38442</td>\n      <td>Aguada</td>\n      <td>PR</td>\n      <td>Puerto Rico</td>\n      <td>True</td>\n      <td>...</td>\n      <td>{'72003':100}</td>\n      <td>Aguada</td>\n      <td>72003</td>\n      <td>False</td>\n      <td>False</td>\n      <td>America/Puerto_Rico</td>\n      <td>NaN</td>\n      <td>NaN</td>\n      <td>NaN</td>\n      <td>NaN</td>\n    </tr>\n    <tr>\n      <th>2</th>\n      <td>603</td>\n      <td>72005</td>\n      <td>Aguadilla</td>\n      <td>NaN</td>\n      <td>NaN</td>\n      <td>48814</td>\n      <td>Aguadilla</td>\n      <td>PR</td>\n      <td>Puerto Rico</td>\n      <td>True</td>\n      <td>...</td>\n      <td>{'72005':100}</td>\n      <td>Aguadilla</td>\n      <td>72005</td>\n      <td>False</td>\n      <td>False</td>\n      <td>America/Puerto_Rico</td>\n      <td>NaN</td>\n      <td>NaN</td>\n      <td>NaN</td>\n      <td>NaN</td>\n    </tr>\n    <tr>\n      <th>3</th>\n      <td>606</td>\n      <td>72093</td>\n      <td>Maricao</td>\n      <td>NaN</td>\n      <td>NaN</td>\n      <td>6437</td>\n      <td>Maricao</td>\n      <td>PR</td>\n      <td>Puerto Rico</td>\n      <td>True</td>\n      <td>...</td>\n      <td>{'72093':94.88,'72121':1.35,'72153':3.78}</td>\n      <td>Maricao|Yauco|Sabana Grande</td>\n      <td>72093|72153|72121</td>\n      <td>False</td>\n      <td>False</td>\n      <td>America/Puerto_Rico</td>\n      <td>NaN</td>\n      <td>NaN</td>\n      <td>NaN</td>\n      <td>NaN</td>\n    </tr>\n    <tr>\n      <th>4</th>\n      <td>610</td>\n      <td>72011</td>\n      <td>Añasco</td>\n      <td>NaN</td>\n      <td>NaN</td>\n      <td>27073</td>\n      <td>Anasco</td>\n      <td>PR</td>\n      <td>Puerto Rico</td>\n      <td>True</td>\n      <td>...</td>\n      <td>{'72003':0.55,'72011':99.45}</td>\n      <td>Añasco|Aguada</td>\n      <td>72011|72003</td>\n      <td>False</td>\n      <td>False</td>\n      <td>America/Puerto_Rico</td>\n      <td>NaN</td>\n      <td>NaN</td>\n      <td>NaN</td>\n      <td>NaN</td>\n    </tr>\n    <tr>\n      <th>...</th>\n      <td>...</td>\n      <td>...</td>\n      <td>...</td>\n      <td>...</td>\n      <td>...</td>\n      <td>...</td>\n      <td>...</td>\n      <td>...</td>\n      <td>...</td>\n      <td>...</td>\n      <td>...</td>\n      <td>...</td>\n      <td>...</td>\n      <td>...</td>\n      <td>...</td>\n      <td>...</td>\n      <td>...</td>\n      <td>...</td>\n      <td>...</td>\n      <td>...</td>\n      <td>...</td>\n    </tr>\n    <tr>\n      <th>33094</th>\n      <td>99923</td>\n      <td>2198</td>\n      <td>Prince of Wales-Hyder</td>\n      <td>10.0</td>\n      <td>2006.0</td>\n      <td>15</td>\n      <td>Hyder</td>\n      <td>AK</td>\n      <td>Alaska</td>\n      <td>True</td>\n      <td>...</td>\n      <td>{'02198':100}</td>\n      <td>Prince of Wales-Hyder</td>\n      <td>2198</td>\n      <td>False</td>\n      <td>False</td>\n      <td>America/Sitka</td>\n      <td>0.0</td>\n      <td>(NON-DMA COUNTIES)</td>\n      <td>NaN</td>\n      <td>NaN</td>\n    </tr>\n    <tr>\n      <th>33095</th>\n      <td>99925</td>\n      <td>2198</td>\n      <td>Prince of Wales-Hyder</td>\n      <td>10.0</td>\n      <td>2006.0</td>\n      <td>927</td>\n      <td>Klawock</td>\n      <td>AK</td>\n      <td>Alaska</td>\n      <td>True</td>\n      <td>...</td>\n      <td>{'02198':100}</td>\n      <td>Prince of Wales-Hyder</td>\n      <td>2198</td>\n      <td>False</td>\n      <td>False</td>\n      <td>America/Sitka</td>\n      <td>0.0</td>\n      <td>(NON-DMA COUNTIES)</td>\n      <td>NaN</td>\n      <td>NaN</td>\n    </tr>\n    <tr>\n      <th>33096</th>\n      <td>99926</td>\n      <td>2198</td>\n      <td>Prince of Wales-Hyder</td>\n      <td>10.0</td>\n      <td>2006.0</td>\n      <td>1635</td>\n      <td>Metlakatla</td>\n      <td>AK</td>\n      <td>Alaska</td>\n      <td>True</td>\n      <td>...</td>\n      <td>{'02198':100}</td>\n      <td>Prince of Wales-Hyder</td>\n      <td>2198</td>\n      <td>False</td>\n      <td>False</td>\n      <td>America/Metlakatla</td>\n      <td>0.0</td>\n      <td>(NON-DMA COUNTIES)</td>\n      <td>NaN</td>\n      <td>NaN</td>\n    </tr>\n    <tr>\n      <th>33097</th>\n      <td>99927</td>\n      <td>2198</td>\n      <td>Prince of Wales-Hyder</td>\n      <td>10.0</td>\n      <td>2006.0</td>\n      <td>38</td>\n      <td>Point Baker</td>\n      <td>AK</td>\n      <td>Alaska</td>\n      <td>True</td>\n      <td>...</td>\n      <td>{'02198':100}</td>\n      <td>Prince of Wales-Hyder</td>\n      <td>2198</td>\n      <td>False</td>\n      <td>False</td>\n      <td>America/Sitka</td>\n      <td>0.0</td>\n      <td>(NON-DMA COUNTIES)</td>\n      <td>NaN</td>\n      <td>NaN</td>\n    </tr>\n    <tr>\n      <th>33098</th>\n      <td>99929</td>\n      <td>2275</td>\n      <td>Wrangell</td>\n      <td>10.0</td>\n      <td>2015.0</td>\n      <td>2484</td>\n      <td>Wrangell</td>\n      <td>AK</td>\n      <td>Alaska</td>\n      <td>True</td>\n      <td>...</td>\n      <td>{'02275':100}</td>\n      <td>Wrangell</td>\n      <td>2275</td>\n      <td>False</td>\n      <td>False</td>\n      <td>America/Sitka</td>\n      <td>0.0</td>\n      <td>(NON-DMA COUNTIES)</td>\n      <td>NaN</td>\n      <td>NaN</td>\n    </tr>\n  </tbody>\n</table>\n<p>33099 rows × 24 columns</p>\n</div>"
     },
     "metadata": {},
     "execution_count": 3
    }
   ],
   "source": [
    "import pandas as pd\n",
    "df = pd.read_csv(\"old_source_files/02_20_uszips.csv\")\n",
    "df"
   ]
  },
  {
   "cell_type": "code",
   "execution_count": 41,
   "metadata": {},
   "outputs": [
    {
     "output_type": "execute_result",
     "data": {
      "text/plain": "0                     {'72001':99.43,'72141':0.57}\n1                                    {'72003':100}\n2                                    {'72005':100}\n3        {'72093':94.88,'72121':1.35,'72153':3.78}\n4                     {'72003':0.55,'72011':99.45}\n                           ...                    \n33094                                {'02198':100}\n33095                                {'02198':100}\n33096                                {'02198':100}\n33097                                {'02198':100}\n33098                                {'02275':100}\nName: county_weights, Length: 33099, dtype: object"
     },
     "metadata": {},
     "execution_count": 41
    }
   ],
   "source": [
    "df['county_weights']"
   ]
  },
  {
   "cell_type": "markdown",
   "metadata": {},
   "source": [
    "##  msa cross table\n",
    "\n",
    "### Compare against cbsatocountycrosswalk.csv\n",
    "\n",
    "The old msa data is from https://data.nber.org/data/cbsa-fips-county-crosswalk.html, new data is from census bureau "
   ]
  },
  {
   "cell_type": "code",
   "execution_count": 5,
   "metadata": {},
   "outputs": [
    {
     "output_type": "execute_result",
     "data": {
      "text/plain": "  countyname state  ssacounty  fips     msa    l         msaname     cbsa  \\\n0    AUTAUGA    AL       1000  1001  5240.0  NaN  MONTGOMERY, AL  33860.0   \n1    BALDWIN    AL       1010  1003  5160.0  NaN      MOBILE, AL      NaN   \n2    BARBOUR    AL       1020  1005     1.0  NaN         ALABAMA      NaN   \n3       BIBB    AL       1030  1007     1.0  NaN         ALABAMA  13820.0   \n4     BLOUNT    AL       1040  1009  1000.0  NaN  BIRMINGHAM, AL  13820.0   \n\n                cbsaname  cbsaold  ... ssast  fipst   y2005   y2011   y2012  \\\n0         Montgomery, AL  33860.0  ...     1      1  2005.0  2011.0  2012.0   \n1                    NaN      NaN  ...     1      1  2005.0  2011.0  2012.0   \n2                    NaN      NaN  ...     1      1  2005.0  2011.0  2012.0   \n3  Birmingham-Hoover, AL  13820.0  ...     1      1  2005.0  2011.0  2012.0   \n4  Birmingham-Hoover, AL  13820.0  ...     1      1  2005.0  2011.0  2012.0   \n\n    y2013   y2014   y2015   y2016   y2017  \n0  2013.0  2014.0  2015.0  2016.0  2017.0  \n1  2013.0  2014.0  2015.0  2016.0  2017.0  \n2  2013.0  2014.0  2015.0  2016.0  2017.0  \n3  2013.0  2014.0  2015.0  2016.0  2017.0  \n4  2013.0  2014.0  2015.0  2016.0  2017.0  \n\n[5 rows x 21 columns]",
      "text/html": "<div>\n<style scoped>\n    .dataframe tbody tr th:only-of-type {\n        vertical-align: middle;\n    }\n\n    .dataframe tbody tr th {\n        vertical-align: top;\n    }\n\n    .dataframe thead th {\n        text-align: right;\n    }\n</style>\n<table border=\"1\" class=\"dataframe\">\n  <thead>\n    <tr style=\"text-align: right;\">\n      <th></th>\n      <th>countyname</th>\n      <th>state</th>\n      <th>ssacounty</th>\n      <th>fips</th>\n      <th>msa</th>\n      <th>l</th>\n      <th>msaname</th>\n      <th>cbsa</th>\n      <th>cbsaname</th>\n      <th>cbsaold</th>\n      <th>...</th>\n      <th>ssast</th>\n      <th>fipst</th>\n      <th>y2005</th>\n      <th>y2011</th>\n      <th>y2012</th>\n      <th>y2013</th>\n      <th>y2014</th>\n      <th>y2015</th>\n      <th>y2016</th>\n      <th>y2017</th>\n    </tr>\n  </thead>\n  <tbody>\n    <tr>\n      <th>0</th>\n      <td>AUTAUGA</td>\n      <td>AL</td>\n      <td>1000</td>\n      <td>1001</td>\n      <td>5240.0</td>\n      <td>NaN</td>\n      <td>MONTGOMERY, AL</td>\n      <td>33860.0</td>\n      <td>Montgomery, AL</td>\n      <td>33860.0</td>\n      <td>...</td>\n      <td>1</td>\n      <td>1</td>\n      <td>2005.0</td>\n      <td>2011.0</td>\n      <td>2012.0</td>\n      <td>2013.0</td>\n      <td>2014.0</td>\n      <td>2015.0</td>\n      <td>2016.0</td>\n      <td>2017.0</td>\n    </tr>\n    <tr>\n      <th>1</th>\n      <td>BALDWIN</td>\n      <td>AL</td>\n      <td>1010</td>\n      <td>1003</td>\n      <td>5160.0</td>\n      <td>NaN</td>\n      <td>MOBILE, AL</td>\n      <td>NaN</td>\n      <td>NaN</td>\n      <td>NaN</td>\n      <td>...</td>\n      <td>1</td>\n      <td>1</td>\n      <td>2005.0</td>\n      <td>2011.0</td>\n      <td>2012.0</td>\n      <td>2013.0</td>\n      <td>2014.0</td>\n      <td>2015.0</td>\n      <td>2016.0</td>\n      <td>2017.0</td>\n    </tr>\n    <tr>\n      <th>2</th>\n      <td>BARBOUR</td>\n      <td>AL</td>\n      <td>1020</td>\n      <td>1005</td>\n      <td>1.0</td>\n      <td>NaN</td>\n      <td>ALABAMA</td>\n      <td>NaN</td>\n      <td>NaN</td>\n      <td>NaN</td>\n      <td>...</td>\n      <td>1</td>\n      <td>1</td>\n      <td>2005.0</td>\n      <td>2011.0</td>\n      <td>2012.0</td>\n      <td>2013.0</td>\n      <td>2014.0</td>\n      <td>2015.0</td>\n      <td>2016.0</td>\n      <td>2017.0</td>\n    </tr>\n    <tr>\n      <th>3</th>\n      <td>BIBB</td>\n      <td>AL</td>\n      <td>1030</td>\n      <td>1007</td>\n      <td>1.0</td>\n      <td>NaN</td>\n      <td>ALABAMA</td>\n      <td>13820.0</td>\n      <td>Birmingham-Hoover, AL</td>\n      <td>13820.0</td>\n      <td>...</td>\n      <td>1</td>\n      <td>1</td>\n      <td>2005.0</td>\n      <td>2011.0</td>\n      <td>2012.0</td>\n      <td>2013.0</td>\n      <td>2014.0</td>\n      <td>2015.0</td>\n      <td>2016.0</td>\n      <td>2017.0</td>\n    </tr>\n    <tr>\n      <th>4</th>\n      <td>BLOUNT</td>\n      <td>AL</td>\n      <td>1040</td>\n      <td>1009</td>\n      <td>1000.0</td>\n      <td>NaN</td>\n      <td>BIRMINGHAM, AL</td>\n      <td>13820.0</td>\n      <td>Birmingham-Hoover, AL</td>\n      <td>13820.0</td>\n      <td>...</td>\n      <td>1</td>\n      <td>1</td>\n      <td>2005.0</td>\n      <td>2011.0</td>\n      <td>2012.0</td>\n      <td>2013.0</td>\n      <td>2014.0</td>\n      <td>2015.0</td>\n      <td>2016.0</td>\n      <td>2017.0</td>\n    </tr>\n  </tbody>\n</table>\n<p>5 rows × 21 columns</p>\n</div>"
     },
     "metadata": {},
     "execution_count": 5
    }
   ],
   "source": [
    "old_msa_filename = \"old_source_files/cbsatocountycrosswalk.csv\"\n",
    "old_msa = pd.read_csv(old_msa_filename)\n",
    "old_msa.head()"
   ]
  },
  {
   "cell_type": "code",
   "execution_count": 7,
   "metadata": {},
   "outputs": [
    {
     "output_type": "execute_result",
     "data": {
      "text/plain": "    fips    msa\n0  48059  10180\n1  48253  10180\n2  48441  10180\n3  72003  10380\n4  72005  10380",
      "text/html": "<div>\n<style scoped>\n    .dataframe tbody tr th:only-of-type {\n        vertical-align: middle;\n    }\n\n    .dataframe tbody tr th {\n        vertical-align: top;\n    }\n\n    .dataframe thead th {\n        text-align: right;\n    }\n</style>\n<table border=\"1\" class=\"dataframe\">\n  <thead>\n    <tr style=\"text-align: right;\">\n      <th></th>\n      <th>fips</th>\n      <th>msa</th>\n    </tr>\n  </thead>\n  <tbody>\n    <tr>\n      <th>0</th>\n      <td>48059</td>\n      <td>10180</td>\n    </tr>\n    <tr>\n      <th>1</th>\n      <td>48253</td>\n      <td>10180</td>\n    </tr>\n    <tr>\n      <th>2</th>\n      <td>48441</td>\n      <td>10180</td>\n    </tr>\n    <tr>\n      <th>3</th>\n      <td>72003</td>\n      <td>10380</td>\n    </tr>\n    <tr>\n      <th>4</th>\n      <td>72005</td>\n      <td>10380</td>\n    </tr>\n  </tbody>\n</table>\n</div>"
     },
     "metadata": {},
     "execution_count": 7
    }
   ],
   "source": [
    "new_msa_file = \"../../delphi_utils/data/fips_msa_table.csv\"\n",
    "new_msa = pd.read_csv(new_msa_file)\n",
    "new_msa.head()"
   ]
  },
  {
   "cell_type": "code",
   "execution_count": 8,
   "metadata": {},
   "outputs": [
    {
     "output_type": "execute_result",
     "data": {
      "text/plain": "           msa     cbsa\nfips                   \n1001   33860.0  33860.0\n1003   19300.0      NaN\n1007   13820.0  13820.0\n1009   13820.0  13820.0\n1015   11500.0  11500.0\n...        ...      ...\n72143  41980.0  41980.0\n72145  41980.0  41980.0\n72149  38660.0  38660.0\n72151  41980.0  41980.0\n72153  49500.0  49500.0\n\n[1293 rows x 2 columns]",
      "text/html": "<div>\n<style scoped>\n    .dataframe tbody tr th:only-of-type {\n        vertical-align: middle;\n    }\n\n    .dataframe tbody tr th {\n        vertical-align: top;\n    }\n\n    .dataframe thead th {\n        text-align: right;\n    }\n</style>\n<table border=\"1\" class=\"dataframe\">\n  <thead>\n    <tr style=\"text-align: right;\">\n      <th></th>\n      <th>msa</th>\n      <th>cbsa</th>\n    </tr>\n    <tr>\n      <th>fips</th>\n      <th></th>\n      <th></th>\n    </tr>\n  </thead>\n  <tbody>\n    <tr>\n      <th>1001</th>\n      <td>33860.0</td>\n      <td>33860.0</td>\n    </tr>\n    <tr>\n      <th>1003</th>\n      <td>19300.0</td>\n      <td>NaN</td>\n    </tr>\n    <tr>\n      <th>1007</th>\n      <td>13820.0</td>\n      <td>13820.0</td>\n    </tr>\n    <tr>\n      <th>1009</th>\n      <td>13820.0</td>\n      <td>13820.0</td>\n    </tr>\n    <tr>\n      <th>1015</th>\n      <td>11500.0</td>\n      <td>11500.0</td>\n    </tr>\n    <tr>\n      <th>...</th>\n      <td>...</td>\n      <td>...</td>\n    </tr>\n    <tr>\n      <th>72143</th>\n      <td>41980.0</td>\n      <td>41980.0</td>\n    </tr>\n    <tr>\n      <th>72145</th>\n      <td>41980.0</td>\n      <td>41980.0</td>\n    </tr>\n    <tr>\n      <th>72149</th>\n      <td>38660.0</td>\n      <td>38660.0</td>\n    </tr>\n    <tr>\n      <th>72151</th>\n      <td>41980.0</td>\n      <td>41980.0</td>\n    </tr>\n    <tr>\n      <th>72153</th>\n      <td>49500.0</td>\n      <td>49500.0</td>\n    </tr>\n  </tbody>\n</table>\n<p>1293 rows × 2 columns</p>\n</div>"
     },
     "metadata": {},
     "execution_count": 8
    }
   ],
   "source": [
    "old_msa = old_msa[~old_msa['cbsa'].isna()][['fips','cbsa']].astype(int)\n",
    "old_msa.set_index('fips',inplace=True)\n",
    "new_msa.set_index('fips',inplace=True)\n",
    "msa_comp = new_msa.join(old_msa,how=\"outer\")\n",
    "msa_comp"
   ]
  },
  {
   "cell_type": "code",
   "execution_count": 9,
   "metadata": {
    "tags": []
   },
   "outputs": [
    {
     "output_type": "stream",
     "name": "stdout",
     "text": "<class 'pandas.core.frame.DataFrame'>\nInt64Index: 1293 entries, 1001 to 72153\nData columns (total 2 columns):\n #   Column  Non-Null Count  Dtype  \n---  ------  --------------  -----  \n 0   msa     1252 non-null   float64\n 1   cbsa    1165 non-null   float64\ndtypes: float64(2)\nmemory usage: 30.3 KB\n"
    },
    {
     "output_type": "execute_result",
     "data": {
      "text/plain": "cbsa   False  True \nmsa                \nFalse   1124    128\nTrue      41      0",
      "text/html": "<div>\n<style scoped>\n    .dataframe tbody tr th:only-of-type {\n        vertical-align: middle;\n    }\n\n    .dataframe tbody tr th {\n        vertical-align: top;\n    }\n\n    .dataframe thead th {\n        text-align: right;\n    }\n</style>\n<table border=\"1\" class=\"dataframe\">\n  <thead>\n    <tr style=\"text-align: right;\">\n      <th>cbsa</th>\n      <th>False</th>\n      <th>True</th>\n    </tr>\n    <tr>\n      <th>msa</th>\n      <th></th>\n      <th></th>\n    </tr>\n  </thead>\n  <tbody>\n    <tr>\n      <th>False</th>\n      <td>1124</td>\n      <td>128</td>\n    </tr>\n    <tr>\n      <th>True</th>\n      <td>41</td>\n      <td>0</td>\n    </tr>\n  </tbody>\n</table>\n</div>"
     },
     "metadata": {},
     "execution_count": 9
    }
   ],
   "source": [
    "old_val = set(pd.unique(old_msa['cbsa']))\n",
    "new_val = set(pd.unique(new_msa['msa']))\n",
    "len(old_val.symmetric_difference(new_val))\n",
    "msa_comp.info()\n",
    "pd.crosstab(msa_comp['msa'].isna(),msa_comp['cbsa'].isna())"
   ]
  },
  {
   "cell_type": "markdown",
   "metadata": {},
   "source": [
    "- 128 fips are in the Census data that are not in the NBER data\n",
    "- 41 fips are in the NBER data that are not in the Census data"
   ]
  },
  {
   "cell_type": "code",
   "execution_count": 10,
   "metadata": {},
   "outputs": [
    {
     "output_type": "execute_result",
     "data": {
      "text/plain": "136"
     },
     "metadata": {},
     "execution_count": 10
    }
   ],
   "source": [
    "msa_comp.dropna(axis=0).eval('msa != cbsa').sum()"
   ]
  },
  {
   "cell_type": "markdown",
   "metadata": {},
   "source": [
    "### Compare against the msa_list file"
   ]
  },
  {
   "cell_type": "code",
   "execution_count": 11,
   "metadata": {},
   "outputs": [
    {
     "output_type": "execute_result",
     "data": {
      "text/plain": "   CBSA ID                                           MSA Name  FIPS ID  \\\n0    10180        Abilene, TX (Metropolitan Statistical Area)    48059   \n1    10180        Abilene, TX (Metropolitan Statistical Area)    48253   \n2    10180        Abilene, TX (Metropolitan Statistical Area)    48441   \n3    10380  Aguadilla-Isabela, PR (Metropolitan Statistica...    72003   \n4    10380  Aguadilla-Isabela, PR (Metropolitan Statistica...    72005   \n\n               County Name  \n0             Callahan, TX  \n1                Jones, TX  \n2               Taylor, TX  \n3     Aguada Municipio, PR  \n4  Aguadilla Municipio, PR  ",
      "text/html": "<div>\n<style scoped>\n    .dataframe tbody tr th:only-of-type {\n        vertical-align: middle;\n    }\n\n    .dataframe tbody tr th {\n        vertical-align: top;\n    }\n\n    .dataframe thead th {\n        text-align: right;\n    }\n</style>\n<table border=\"1\" class=\"dataframe\">\n  <thead>\n    <tr style=\"text-align: right;\">\n      <th></th>\n      <th>CBSA ID</th>\n      <th>MSA Name</th>\n      <th>FIPS ID</th>\n      <th>County Name</th>\n    </tr>\n  </thead>\n  <tbody>\n    <tr>\n      <th>0</th>\n      <td>10180</td>\n      <td>Abilene, TX (Metropolitan Statistical Area)</td>\n      <td>48059</td>\n      <td>Callahan, TX</td>\n    </tr>\n    <tr>\n      <th>1</th>\n      <td>10180</td>\n      <td>Abilene, TX (Metropolitan Statistical Area)</td>\n      <td>48253</td>\n      <td>Jones, TX</td>\n    </tr>\n    <tr>\n      <th>2</th>\n      <td>10180</td>\n      <td>Abilene, TX (Metropolitan Statistical Area)</td>\n      <td>48441</td>\n      <td>Taylor, TX</td>\n    </tr>\n    <tr>\n      <th>3</th>\n      <td>10380</td>\n      <td>Aguadilla-Isabela, PR (Metropolitan Statistica...</td>\n      <td>72003</td>\n      <td>Aguada Municipio, PR</td>\n    </tr>\n    <tr>\n      <th>4</th>\n      <td>10380</td>\n      <td>Aguadilla-Isabela, PR (Metropolitan Statistica...</td>\n      <td>72005</td>\n      <td>Aguadilla Municipio, PR</td>\n    </tr>\n  </tbody>\n</table>\n</div>"
     },
     "metadata": {},
     "execution_count": 11
    }
   ],
   "source": [
    "old_msa_filename = \"old_source_files/msa_list.csv\"\n",
    "old_msa = pd.read_csv(old_msa_filename)\n",
    "old_msa.head()"
   ]
  },
  {
   "cell_type": "code",
   "execution_count": 12,
   "metadata": {
    "tags": []
   },
   "outputs": [
    {
     "output_type": "stream",
     "name": "stdout",
     "text": "<class 'pandas.core.frame.DataFrame'>\nInt64Index: 1231 entries, 48059 to 4027\nData columns (total 1 columns):\n #   Column   Non-Null Count  Dtype\n---  ------   --------------  -----\n 0   CBSA ID  1231 non-null   int64\ndtypes: int64(1)\nmemory usage: 19.2 KB\n"
    }
   ],
   "source": [
    "old_msa = old_msa[~old_msa['CBSA ID'].isna()][['FIPS ID','CBSA ID']].astype(int)\n",
    "\n",
    "old_msa.set_index('FIPS ID',inplace=True)\n",
    "\n",
    "old_msa.info()"
   ]
  },
  {
   "cell_type": "code",
   "execution_count": 13,
   "metadata": {},
   "outputs": [],
   "source": [
    "msa_comp = new_msa.join(old_msa,how=\"outer\")"
   ]
  },
  {
   "cell_type": "code",
   "execution_count": 14,
   "metadata": {},
   "outputs": [
    {
     "output_type": "execute_result",
     "data": {
      "text/plain": "           msa  CBSA ID\n1001   33860.0  33860.0\n1003   19300.0  19300.0\n1007   13820.0  13820.0\n1009   13820.0  13820.0\n1015   11500.0  11500.0\n...        ...      ...\n72143  41980.0  41980.0\n72145  41980.0  41980.0\n72149  38660.0  38660.0\n72151  41980.0  41980.0\n72153  49500.0  49500.0\n\n[1268 rows x 2 columns]",
      "text/html": "<div>\n<style scoped>\n    .dataframe tbody tr th:only-of-type {\n        vertical-align: middle;\n    }\n\n    .dataframe tbody tr th {\n        vertical-align: top;\n    }\n\n    .dataframe thead th {\n        text-align: right;\n    }\n</style>\n<table border=\"1\" class=\"dataframe\">\n  <thead>\n    <tr style=\"text-align: right;\">\n      <th></th>\n      <th>msa</th>\n      <th>CBSA ID</th>\n    </tr>\n  </thead>\n  <tbody>\n    <tr>\n      <th>1001</th>\n      <td>33860.0</td>\n      <td>33860.0</td>\n    </tr>\n    <tr>\n      <th>1003</th>\n      <td>19300.0</td>\n      <td>19300.0</td>\n    </tr>\n    <tr>\n      <th>1007</th>\n      <td>13820.0</td>\n      <td>13820.0</td>\n    </tr>\n    <tr>\n      <th>1009</th>\n      <td>13820.0</td>\n      <td>13820.0</td>\n    </tr>\n    <tr>\n      <th>1015</th>\n      <td>11500.0</td>\n      <td>11500.0</td>\n    </tr>\n    <tr>\n      <th>...</th>\n      <td>...</td>\n      <td>...</td>\n    </tr>\n    <tr>\n      <th>72143</th>\n      <td>41980.0</td>\n      <td>41980.0</td>\n    </tr>\n    <tr>\n      <th>72145</th>\n      <td>41980.0</td>\n      <td>41980.0</td>\n    </tr>\n    <tr>\n      <th>72149</th>\n      <td>38660.0</td>\n      <td>38660.0</td>\n    </tr>\n    <tr>\n      <th>72151</th>\n      <td>41980.0</td>\n      <td>41980.0</td>\n    </tr>\n    <tr>\n      <th>72153</th>\n      <td>49500.0</td>\n      <td>49500.0</td>\n    </tr>\n  </tbody>\n</table>\n<p>1268 rows × 2 columns</p>\n</div>"
     },
     "metadata": {},
     "execution_count": 14
    }
   ],
   "source": [
    "msa_comp"
   ]
  },
  {
   "cell_type": "code",
   "execution_count": 15,
   "metadata": {},
   "outputs": [],
   "source": [
    "old_val = set(pd.unique(old_msa['CBSA ID']))\n",
    "new_val = set(pd.unique(new_msa['msa']))"
   ]
  },
  {
   "cell_type": "code",
   "execution_count": 16,
   "metadata": {},
   "outputs": [
    {
     "output_type": "execute_result",
     "data": {
      "text/plain": "0"
     },
     "metadata": {},
     "execution_count": 16
    }
   ],
   "source": [
    "len(old_val.symmetric_difference(new_val))"
   ]
  },
  {
   "cell_type": "code",
   "execution_count": 17,
   "metadata": {
    "tags": []
   },
   "outputs": [
    {
     "output_type": "stream",
     "name": "stdout",
     "text": "<class 'pandas.core.frame.DataFrame'>\nInt64Index: 1268 entries, 1001 to 72153\nData columns (total 2 columns):\n #   Column   Non-Null Count  Dtype  \n---  ------   --------------  -----  \n 0   msa      1251 non-null   float64\n 1   CBSA ID  1231 non-null   float64\ndtypes: float64(2)\nmemory usage: 29.7 KB\n"
    }
   ],
   "source": [
    "msa_comp.info()"
   ]
  },
  {
   "cell_type": "code",
   "execution_count": 18,
   "metadata": {},
   "outputs": [
    {
     "output_type": "execute_result",
     "data": {
      "text/plain": "0.0"
     },
     "metadata": {},
     "execution_count": 18
    }
   ],
   "source": [
    "(msa_comp['msa'] - msa_comp['CBSA ID']).sum()"
   ]
  },
  {
   "cell_type": "code",
   "execution_count": 19,
   "metadata": {},
   "outputs": [
    {
     "output_type": "execute_result",
     "data": {
      "text/plain": "CBSA ID  False  True \nmsa                  \nFalse     1214     37\nTrue        17      0",
      "text/html": "<div>\n<style scoped>\n    .dataframe tbody tr th:only-of-type {\n        vertical-align: middle;\n    }\n\n    .dataframe tbody tr th {\n        vertical-align: top;\n    }\n\n    .dataframe thead th {\n        text-align: right;\n    }\n</style>\n<table border=\"1\" class=\"dataframe\">\n  <thead>\n    <tr style=\"text-align: right;\">\n      <th>CBSA ID</th>\n      <th>False</th>\n      <th>True</th>\n    </tr>\n    <tr>\n      <th>msa</th>\n      <th></th>\n      <th></th>\n    </tr>\n  </thead>\n  <tbody>\n    <tr>\n      <th>False</th>\n      <td>1214</td>\n      <td>37</td>\n    </tr>\n    <tr>\n      <th>True</th>\n      <td>17</td>\n      <td>0</td>\n    </tr>\n  </tbody>\n</table>\n</div>"
     },
     "metadata": {},
     "execution_count": 19
    }
   ],
   "source": [
    "pd.crosstab(msa_comp['msa'].isna(),msa_comp['CBSA ID'].isna())"
   ]
  },
  {
   "cell_type": "markdown",
   "metadata": {},
   "source": [
    "- 37 fips are in the March Census data that are not in the old census data\n",
    "- 17 fips are in the old census data that are not in the March Census data"
   ]
  },
  {
   "cell_type": "code",
   "execution_count": 20,
   "metadata": {
    "tags": []
   },
   "outputs": [
    {
     "output_type": "stream",
     "name": "stdout",
     "text": "<class 'pandas.core.frame.DataFrame'>\nInt64Index: 1268 entries, 1001 to 72153\nData columns (total 2 columns):\n #   Column   Non-Null Count  Dtype  \n---  ------   --------------  -----  \n 0   msa      1251 non-null   float64\n 1   CBSA ID  1231 non-null   float64\ndtypes: float64(2)\nmemory usage: 29.7 KB\n"
    }
   ],
   "source": [
    "msa_comp.info()"
   ]
  },
  {
   "cell_type": "code",
   "execution_count": 21,
   "metadata": {},
   "outputs": [
    {
     "output_type": "execute_result",
     "data": {
      "text/plain": "1001     33860.0\n1003     19300.0\n1007     13820.0\n1009     13820.0\n1015     11500.0\n          ...   \n72143    41980.0\n72145    41980.0\n72149    38660.0\n72151    41980.0\n72153    49500.0\nName: CBSA ID, Length: 1268, dtype: float64"
     },
     "metadata": {},
     "execution_count": 21
    }
   ],
   "source": [
    "msa_comp['CBSA ID']"
   ]
  },
  {
   "cell_type": "code",
   "execution_count": 72,
   "metadata": {},
   "outputs": [
    {
     "data": {
      "text/html": [
       "<div>\n",
       "<style scoped>\n",
       "    .dataframe tbody tr th:only-of-type {\n",
       "        vertical-align: middle;\n",
       "    }\n",
       "\n",
       "    .dataframe tbody tr th {\n",
       "        vertical-align: top;\n",
       "    }\n",
       "\n",
       "    .dataframe thead th {\n",
       "        text-align: right;\n",
       "    }\n",
       "</style>\n",
       "<table border=\"1\" class=\"dataframe\">\n",
       "  <thead>\n",
       "    <tr style=\"text-align: right;\">\n",
       "      <th></th>\n",
       "      <th>msa</th>\n",
       "      <th>CBSA ID</th>\n",
       "    </tr>\n",
       "  </thead>\n",
       "  <tbody>\n",
       "    <tr>\n",
       "      <th>15009</th>\n",
       "      <td>27980.0</td>\n",
       "      <td>NaN</td>\n",
       "    </tr>\n",
       "    <tr>\n",
       "      <th>51003</th>\n",
       "      <td>16820.0</td>\n",
       "      <td>NaN</td>\n",
       "    </tr>\n",
       "    <tr>\n",
       "      <th>51015</th>\n",
       "      <td>44420.0</td>\n",
       "      <td>NaN</td>\n",
       "    </tr>\n",
       "    <tr>\n",
       "      <th>51031</th>\n",
       "      <td>31340.0</td>\n",
       "      <td>NaN</td>\n",
       "    </tr>\n",
       "    <tr>\n",
       "      <th>51053</th>\n",
       "      <td>40060.0</td>\n",
       "      <td>NaN</td>\n",
       "    </tr>\n",
       "    <tr>\n",
       "      <th>51059</th>\n",
       "      <td>47900.0</td>\n",
       "      <td>NaN</td>\n",
       "    </tr>\n",
       "    <tr>\n",
       "      <th>51069</th>\n",
       "      <td>49020.0</td>\n",
       "      <td>NaN</td>\n",
       "    </tr>\n",
       "    <tr>\n",
       "      <th>51095</th>\n",
       "      <td>47260.0</td>\n",
       "      <td>NaN</td>\n",
       "    </tr>\n",
       "    <tr>\n",
       "      <th>51121</th>\n",
       "      <td>13980.0</td>\n",
       "      <td>NaN</td>\n",
       "    </tr>\n",
       "    <tr>\n",
       "      <th>51149</th>\n",
       "      <td>40060.0</td>\n",
       "      <td>NaN</td>\n",
       "    </tr>\n",
       "    <tr>\n",
       "      <th>51153</th>\n",
       "      <td>47900.0</td>\n",
       "      <td>NaN</td>\n",
       "    </tr>\n",
       "    <tr>\n",
       "      <th>51161</th>\n",
       "      <td>40220.0</td>\n",
       "      <td>NaN</td>\n",
       "    </tr>\n",
       "    <tr>\n",
       "      <th>51165</th>\n",
       "      <td>25500.0</td>\n",
       "      <td>NaN</td>\n",
       "    </tr>\n",
       "    <tr>\n",
       "      <th>51175</th>\n",
       "      <td>47260.0</td>\n",
       "      <td>NaN</td>\n",
       "    </tr>\n",
       "    <tr>\n",
       "      <th>51177</th>\n",
       "      <td>47900.0</td>\n",
       "      <td>NaN</td>\n",
       "    </tr>\n",
       "    <tr>\n",
       "      <th>51191</th>\n",
       "      <td>28700.0</td>\n",
       "      <td>NaN</td>\n",
       "    </tr>\n",
       "    <tr>\n",
       "      <th>51199</th>\n",
       "      <td>47260.0</td>\n",
       "      <td>NaN</td>\n",
       "    </tr>\n",
       "    <tr>\n",
       "      <th>51520</th>\n",
       "      <td>28700.0</td>\n",
       "      <td>NaN</td>\n",
       "    </tr>\n",
       "    <tr>\n",
       "      <th>51540</th>\n",
       "      <td>16820.0</td>\n",
       "      <td>NaN</td>\n",
       "    </tr>\n",
       "    <tr>\n",
       "      <th>51570</th>\n",
       "      <td>40060.0</td>\n",
       "      <td>NaN</td>\n",
       "    </tr>\n",
       "    <tr>\n",
       "      <th>51600</th>\n",
       "      <td>47900.0</td>\n",
       "      <td>NaN</td>\n",
       "    </tr>\n",
       "    <tr>\n",
       "      <th>51610</th>\n",
       "      <td>47900.0</td>\n",
       "      <td>NaN</td>\n",
       "    </tr>\n",
       "    <tr>\n",
       "      <th>51620</th>\n",
       "      <td>47260.0</td>\n",
       "      <td>NaN</td>\n",
       "    </tr>\n",
       "    <tr>\n",
       "      <th>51630</th>\n",
       "      <td>47900.0</td>\n",
       "      <td>NaN</td>\n",
       "    </tr>\n",
       "    <tr>\n",
       "      <th>51660</th>\n",
       "      <td>25500.0</td>\n",
       "      <td>NaN</td>\n",
       "    </tr>\n",
       "    <tr>\n",
       "      <th>51670</th>\n",
       "      <td>40060.0</td>\n",
       "      <td>NaN</td>\n",
       "    </tr>\n",
       "    <tr>\n",
       "      <th>51680</th>\n",
       "      <td>31340.0</td>\n",
       "      <td>NaN</td>\n",
       "    </tr>\n",
       "    <tr>\n",
       "      <th>51683</th>\n",
       "      <td>47900.0</td>\n",
       "      <td>NaN</td>\n",
       "    </tr>\n",
       "    <tr>\n",
       "      <th>51685</th>\n",
       "      <td>47900.0</td>\n",
       "      <td>NaN</td>\n",
       "    </tr>\n",
       "    <tr>\n",
       "      <th>51730</th>\n",
       "      <td>40060.0</td>\n",
       "      <td>NaN</td>\n",
       "    </tr>\n",
       "    <tr>\n",
       "      <th>51735</th>\n",
       "      <td>47260.0</td>\n",
       "      <td>NaN</td>\n",
       "    </tr>\n",
       "    <tr>\n",
       "      <th>51750</th>\n",
       "      <td>13980.0</td>\n",
       "      <td>NaN</td>\n",
       "    </tr>\n",
       "    <tr>\n",
       "      <th>51775</th>\n",
       "      <td>40220.0</td>\n",
       "      <td>NaN</td>\n",
       "    </tr>\n",
       "    <tr>\n",
       "      <th>51790</th>\n",
       "      <td>44420.0</td>\n",
       "      <td>NaN</td>\n",
       "    </tr>\n",
       "    <tr>\n",
       "      <th>51820</th>\n",
       "      <td>44420.0</td>\n",
       "      <td>NaN</td>\n",
       "    </tr>\n",
       "    <tr>\n",
       "      <th>51830</th>\n",
       "      <td>47260.0</td>\n",
       "      <td>NaN</td>\n",
       "    </tr>\n",
       "    <tr>\n",
       "      <th>51840</th>\n",
       "      <td>49020.0</td>\n",
       "      <td>NaN</td>\n",
       "    </tr>\n",
       "  </tbody>\n",
       "</table>\n",
       "</div>"
      ],
      "text/plain": [
       "           msa  CBSA ID\n",
       "15009  27980.0      NaN\n",
       "51003  16820.0      NaN\n",
       "51015  44420.0      NaN\n",
       "51031  31340.0      NaN\n",
       "51053  40060.0      NaN\n",
       "51059  47900.0      NaN\n",
       "51069  49020.0      NaN\n",
       "51095  47260.0      NaN\n",
       "51121  13980.0      NaN\n",
       "51149  40060.0      NaN\n",
       "51153  47900.0      NaN\n",
       "51161  40220.0      NaN\n",
       "51165  25500.0      NaN\n",
       "51175  47260.0      NaN\n",
       "51177  47900.0      NaN\n",
       "51191  28700.0      NaN\n",
       "51199  47260.0      NaN\n",
       "51520  28700.0      NaN\n",
       "51540  16820.0      NaN\n",
       "51570  40060.0      NaN\n",
       "51600  47900.0      NaN\n",
       "51610  47900.0      NaN\n",
       "51620  47260.0      NaN\n",
       "51630  47900.0      NaN\n",
       "51660  25500.0      NaN\n",
       "51670  40060.0      NaN\n",
       "51680  31340.0      NaN\n",
       "51683  47900.0      NaN\n",
       "51685  47900.0      NaN\n",
       "51730  40060.0      NaN\n",
       "51735  47260.0      NaN\n",
       "51750  13980.0      NaN\n",
       "51775  40220.0      NaN\n",
       "51790  44420.0      NaN\n",
       "51820  44420.0      NaN\n",
       "51830  47260.0      NaN\n",
       "51840  49020.0      NaN"
      ]
     },
     "execution_count": 72,
     "metadata": {},
     "output_type": "execute_result"
    }
   ],
   "source": [
    "msa_comp[msa_comp['CBSA ID'].isna()]"
   ]
  },
  {
   "cell_type": "markdown",
   "metadata": {},
   "source": [
    "- 15009 is Maui\n",
    "- 51XXX is in VA"
   ]
  },
  {
   "cell_type": "code",
   "execution_count": 73,
   "metadata": {},
   "outputs": [
    {
     "data": {
      "text/html": [
       "<div>\n",
       "<style scoped>\n",
       "    .dataframe tbody tr th:only-of-type {\n",
       "        vertical-align: middle;\n",
       "    }\n",
       "\n",
       "    .dataframe tbody tr th {\n",
       "        vertical-align: top;\n",
       "    }\n",
       "\n",
       "    .dataframe thead th {\n",
       "        text-align: right;\n",
       "    }\n",
       "</style>\n",
       "<table border=\"1\" class=\"dataframe\">\n",
       "  <thead>\n",
       "    <tr style=\"text-align: right;\">\n",
       "      <th></th>\n",
       "      <th>msa</th>\n",
       "      <th>CBSA ID</th>\n",
       "    </tr>\n",
       "  </thead>\n",
       "  <tbody>\n",
       "    <tr>\n",
       "      <th>15901</th>\n",
       "      <td>NaN</td>\n",
       "      <td>27980.0</td>\n",
       "    </tr>\n",
       "    <tr>\n",
       "      <th>51901</th>\n",
       "      <td>NaN</td>\n",
       "      <td>16820.0</td>\n",
       "    </tr>\n",
       "    <tr>\n",
       "      <th>51907</th>\n",
       "      <td>NaN</td>\n",
       "      <td>44420.0</td>\n",
       "    </tr>\n",
       "    <tr>\n",
       "      <th>51911</th>\n",
       "      <td>NaN</td>\n",
       "      <td>31340.0</td>\n",
       "    </tr>\n",
       "    <tr>\n",
       "      <th>51918</th>\n",
       "      <td>NaN</td>\n",
       "      <td>40060.0</td>\n",
       "    </tr>\n",
       "    <tr>\n",
       "      <th>51919</th>\n",
       "      <td>NaN</td>\n",
       "      <td>47900.0</td>\n",
       "    </tr>\n",
       "    <tr>\n",
       "      <th>51921</th>\n",
       "      <td>NaN</td>\n",
       "      <td>49020.0</td>\n",
       "    </tr>\n",
       "    <tr>\n",
       "      <th>51931</th>\n",
       "      <td>NaN</td>\n",
       "      <td>47260.0</td>\n",
       "    </tr>\n",
       "    <tr>\n",
       "      <th>51933</th>\n",
       "      <td>NaN</td>\n",
       "      <td>13980.0</td>\n",
       "    </tr>\n",
       "    <tr>\n",
       "      <th>51941</th>\n",
       "      <td>NaN</td>\n",
       "      <td>40060.0</td>\n",
       "    </tr>\n",
       "    <tr>\n",
       "      <th>51942</th>\n",
       "      <td>NaN</td>\n",
       "      <td>47900.0</td>\n",
       "    </tr>\n",
       "    <tr>\n",
       "      <th>51944</th>\n",
       "      <td>NaN</td>\n",
       "      <td>40220.0</td>\n",
       "    </tr>\n",
       "    <tr>\n",
       "      <th>51947</th>\n",
       "      <td>NaN</td>\n",
       "      <td>25500.0</td>\n",
       "    </tr>\n",
       "    <tr>\n",
       "      <th>51949</th>\n",
       "      <td>NaN</td>\n",
       "      <td>47260.0</td>\n",
       "    </tr>\n",
       "    <tr>\n",
       "      <th>51951</th>\n",
       "      <td>NaN</td>\n",
       "      <td>47900.0</td>\n",
       "    </tr>\n",
       "    <tr>\n",
       "      <th>51953</th>\n",
       "      <td>NaN</td>\n",
       "      <td>28700.0</td>\n",
       "    </tr>\n",
       "    <tr>\n",
       "      <th>51958</th>\n",
       "      <td>NaN</td>\n",
       "      <td>47260.0</td>\n",
       "    </tr>\n",
       "  </tbody>\n",
       "</table>\n",
       "</div>"
      ],
      "text/plain": [
       "       msa  CBSA ID\n",
       "15901  NaN  27980.0\n",
       "51901  NaN  16820.0\n",
       "51907  NaN  44420.0\n",
       "51911  NaN  31340.0\n",
       "51918  NaN  40060.0\n",
       "51919  NaN  47900.0\n",
       "51921  NaN  49020.0\n",
       "51931  NaN  47260.0\n",
       "51933  NaN  13980.0\n",
       "51941  NaN  40060.0\n",
       "51942  NaN  47900.0\n",
       "51944  NaN  40220.0\n",
       "51947  NaN  25500.0\n",
       "51949  NaN  47260.0\n",
       "51951  NaN  47900.0\n",
       "51953  NaN  28700.0\n",
       "51958  NaN  47260.0"
      ]
     },
     "execution_count": 73,
     "metadata": {},
     "output_type": "execute_result"
    }
   ],
   "source": [
    "msa_comp[msa_comp['msa'].isna()]"
   ]
  },
  {
   "cell_type": "markdown",
   "metadata": {},
   "source": [
    "- Another Hawaii\n",
    "- The rest are VA"
   ]
  },
  {
   "cell_type": "markdown",
   "metadata": {},
   "source": [
    "## State encoding"
   ]
  },
  {
   "cell_type": "code",
   "execution_count": 22,
   "metadata": {},
   "outputs": [
    {
     "output_type": "execute_result",
     "data": {
      "text/plain": "10180.0"
     },
     "metadata": {},
     "execution_count": 22
    }
   ],
   "source": [
    "pd.unique(msa_comp['msa'].dropna()).min()"
   ]
  },
  {
   "cell_type": "code",
   "execution_count": 23,
   "metadata": {},
   "outputs": [
    {
     "output_type": "execute_result",
     "data": {
      "text/plain": "(392,)"
     },
     "metadata": {},
     "execution_count": 23
    }
   ],
   "source": [
    "pd.unique(new_msa['msa']).shape"
   ]
  }
 ],
 "metadata": {
  "kernelspec": {
   "display_name": "Python 3",
   "language": "python",
   "name": "python3"
  },
  "language_info": {
   "codemirror_mode": {
    "name": "ipython",
    "version": 3
   },
   "file_extension": ".py",
   "mimetype": "text/x-python",
   "name": "python",
   "nbconvert_exporter": "python",
   "pygments_lexer": "ipython3",
   "version": "3.7.3-final"
  }
 },
 "nbformat": 4,
 "nbformat_minor": 4
}